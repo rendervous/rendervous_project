{
 "cells": [
  {
   "cell_type": "markdown",
   "source": [
    "# Introducing Rendervous  \n",
    "\n",
    "Rendervous is a project built on Vulkan and PyTorch that models processes—potentially graphics-related—as differentiable maps whenever possible. These maps define parametric, vector-valued functions as follows:  \n",
    "\n",
    "$$  \n",
    "f_\\theta: \\mathcal{R}^n \\rightarrow \\mathcal{R}^m \\quad \\text{where} \\quad y = f_\\theta(x)  \n",
    "$$  \n",
    "\n",
    "Each map includes a forward method to compute $y$ and a backward mechanism to propagate gradients, $\\partial L / \\partial y$, back to both $x$ and $\\theta$.\n",
    "\n",
    "Unlike conventional tensor-based differentiation frameworks, Rendervous focuses on operator-level abstraction rather than an operation-result graph. Depending on the map's specifics, gradient computation may either be automated or involve replaying the forward evaluation. This design requires careful consideration when combining maps to balance execution complexity effectively.\n",
    "\n",
    "Let's start importing necessary libraries."
   ],
   "metadata": {
    "collapsed": false
   },
   "id": "12f7e44e6b237b62"
  },
  {
   "cell_type": "code",
   "execution_count": 1,
   "outputs": [
    {
     "name": "stdout",
     "output_type": "stream",
     "text": [
      "Executing locally\n"
     ]
    }
   ],
   "source": [
    "try: # install all dependencies in colab \n",
    "    import google.colab\n",
    "    !sudo apt-get update -y\n",
    "    !sudo apt-get install -y libnvidia-gl-555 vulkan-tools glslang-tools vulkan-validationlayers-dev\n",
    "    !pip install pyav==13.1.0\n",
    "    !pip install git+https://github.com/rendervous/rendervous_project.git\n",
    "except:\n",
    "    print(\"Executing locally\")"
   ],
   "metadata": {
    "collapsed": false,
    "ExecuteTime": {
     "end_time": "2025-07-30T09:09:27.440305600Z",
     "start_time": "2025-07-30T09:09:27.275031400Z"
    }
   },
   "id": "f227876468ba04d7"
  },
  {
   "cell_type": "code",
   "execution_count": 2,
   "id": "initial_id",
   "metadata": {
    "ExecuteTime": {
     "end_time": "2025-07-30T09:09:30.216102500Z",
     "start_time": "2025-07-30T09:09:27.283304500Z"
    }
   },
   "outputs": [],
   "source": [
    "import rendervous as rdv\n",
    "import torch"
   ]
  },
  {
   "cell_type": "markdown",
   "source": [
    "We will start with the simplest map in Rendervous: a constant map. This map represents functions in the form:  \n",
    "\n",
    "$$  \n",
    "f_\\theta(x) := \\theta  \n",
    "$$  \n",
    "\n",
    "For example, the constant map $f(x)=(1, 2)$ could be expressed as: "
   ],
   "metadata": {
    "collapsed": false
   },
   "id": "53f7d2e7968d223f"
  },
  {
   "cell_type": "code",
   "execution_count": 3,
   "outputs": [],
   "source": [
    "my_consmap = rdv.const[1.0, 2.0]"
   ],
   "metadata": {
    "collapsed": false,
    "ExecuteTime": {
     "end_time": "2025-07-30T09:09:30.225885500Z",
     "start_time": "2025-07-30T09:09:30.217101200Z"
    }
   },
   "id": "37d2351a55fbe1fa"
  },
  {
   "cell_type": "markdown",
   "source": [
    "Some maps can be defined in a generic form. For instance, the map `my_consmap` has a fixed output dimension of 2, but its input dimension can vary. The method `cast` allows you to set specific input and output dimensions, returning a new map that is linked to the same parameters or sub-maps."
   ],
   "metadata": {
    "collapsed": false
   },
   "id": "5d4acce3a8a8e672"
  },
  {
   "cell_type": "code",
   "execution_count": 4,
   "outputs": [],
   "source": [
    "my_non_generic_consmap = my_consmap.cast(input_dim=4)\n",
    "## This would trigger an assertion error\n",
    "# print(my_non_generic_consmap(torch.rand(10, 2, device=rdv.device())))"
   ],
   "metadata": {
    "collapsed": false,
    "ExecuteTime": {
     "end_time": "2025-07-30T09:09:30.226882900Z",
     "start_time": "2025-07-30T09:09:30.222379300Z"
    }
   },
   "id": "9d2a261b18d42800"
  },
  {
   "cell_type": "code",
   "execution_count": 5,
   "outputs": [
    {
     "name": "stdout",
     "output_type": "stream",
     "text": [
      "tensor([[1., 2.],\n",
      "        [1., 2.],\n",
      "        [1., 2.],\n",
      "        [1., 2.],\n",
      "        [1., 2.],\n",
      "        [1., 2.],\n",
      "        [1., 2.],\n",
      "        [1., 2.],\n",
      "        [1., 2.],\n",
      "        [1., 2.]], device='cuda:0', grad_fn=<AutogradMapFunctionBackward>)\n"
     ]
    }
   ],
   "source": [
    "print(my_non_generic_consmap(torch.rand(10, 4, device=rdv.device())))"
   ],
   "metadata": {
    "collapsed": false,
    "ExecuteTime": {
     "end_time": "2025-07-30T09:09:30.499359600Z",
     "start_time": "2025-07-30T09:09:30.228884400Z"
    }
   },
   "id": "55cd714e68a32b8c"
  },
  {
   "cell_type": "markdown",
   "source": [
    "If the map is generic at the input it can be evaluated and will take the input dimension from the last dimension of the argument."
   ],
   "metadata": {
    "collapsed": false
   },
   "id": "1e76ed69a224867e"
  },
  {
   "cell_type": "code",
   "execution_count": 6,
   "outputs": [
    {
     "name": "stdout",
     "output_type": "stream",
     "text": [
      "tensor([[1., 2.],\n",
      "        [1., 2.],\n",
      "        [1., 2.],\n",
      "        [1., 2.],\n",
      "        [1., 2.],\n",
      "        [1., 2.],\n",
      "        [1., 2.],\n",
      "        [1., 2.],\n",
      "        [1., 2.],\n",
      "        [1., 2.]], device='cuda:0', grad_fn=<AutogradMapFunctionBackward>)\n"
     ]
    }
   ],
   "source": [
    "print(my_consmap(torch.rand(10, 2, device=rdv.device())))  # no problem here."
   ],
   "metadata": {
    "collapsed": false,
    "ExecuteTime": {
     "end_time": "2025-07-30T09:09:30.673173600Z",
     "start_time": "2025-07-30T09:09:30.499359600Z"
    }
   },
   "id": "20e8c2c44bcc0a7e"
  },
  {
   "cell_type": "markdown",
   "source": [
    "Some special constants (non-trainable) can be instantiated directly. "
   ],
   "metadata": {
    "collapsed": false
   },
   "id": "1b86a44127524f76"
  },
  {
   "cell_type": "code",
   "execution_count": 7,
   "outputs": [],
   "source": [
    "zero = rdv.ZERO\n",
    "one = rdv.ONE"
   ],
   "metadata": {
    "collapsed": false,
    "ExecuteTime": {
     "end_time": "2025-07-30T09:09:30.675104Z",
     "start_time": "2025-07-30T09:09:30.672173200Z"
    }
   },
   "id": "1fbdde371d596861"
  },
  {
   "cell_type": "markdown",
   "source": [
    "Another interested behaviour in rendervous is the promotion of scalar-valued functions (i.e., functions with output dimension 1).\n",
    "Those functions behave as if they were generic in the output since they can be cast to any output dimension."
   ],
   "metadata": {
    "collapsed": false
   },
   "id": "a04a36f9838ba3f3"
  },
  {
   "cell_type": "code",
   "execution_count": 8,
   "outputs": [
    {
     "name": "stdout",
     "output_type": "stream",
     "text": [
      "tensor([[0., 0., 0.],\n",
      "        [0., 0., 0.],\n",
      "        [0., 0., 0.],\n",
      "        [0., 0., 0.],\n",
      "        [0., 0., 0.]], device='cuda:0', grad_fn=<AutogradMapFunctionBackward>)\n"
     ]
    }
   ],
   "source": [
    "print(zero.cast(output_dim=3)(torch.rand(5, 4)))"
   ],
   "metadata": {
    "collapsed": false,
    "ExecuteTime": {
     "end_time": "2025-07-30T09:09:30.935636900Z",
     "start_time": "2025-07-30T09:09:30.676107500Z"
    }
   },
   "id": "45564a52f5fc7c52"
  },
  {
   "cell_type": "markdown",
   "source": [
    "In case a map with generic output is evaluated, a single value output is assumed. "
   ],
   "metadata": {
    "collapsed": false
   },
   "id": "92167316961ba22c"
  },
  {
   "cell_type": "code",
   "execution_count": 9,
   "outputs": [
    {
     "name": "stdout",
     "output_type": "stream",
     "text": [
      "tensor([[1.],\n",
      "        [1.],\n",
      "        [1.],\n",
      "        [1.],\n",
      "        [1.]], device='cuda:0', grad_fn=<AutogradMapFunctionBackward>)\n"
     ]
    }
   ],
   "source": [
    "print(one(torch.rand(5,4)))"
   ],
   "metadata": {
    "collapsed": false,
    "ExecuteTime": {
     "end_time": "2025-07-30T09:09:31.175225900Z",
     "start_time": "2025-07-30T09:09:30.935636900Z"
    }
   },
   "id": "a5891c386cfcf4f4"
  },
  {
   "cell_type": "markdown",
   "source": [
    "## Operations  \n",
    "\n",
    "Unlike tensor-based operations and automatic differentiation, in Rendervous, operators applied to maps create new maps. For example, the following creates a map representing the addition of two maps. Specifically, it defines a map that extracts the direction $\\omega$ and the position $x$ from a ray input in the form $x|\\omega$. The resulting map computes the ray's end-point at a distance of $1$ (assuming the direction is normalized).  \n"
   ],
   "metadata": {
    "collapsed": false
   },
   "id": "8422a455981be7ff"
  },
  {
   "cell_type": "code",
   "execution_count": 10,
   "id": "9cebb12f0a941695",
   "metadata": {
    "collapsed": false,
    "ExecuteTime": {
     "end_time": "2025-07-30T09:09:31.184108Z",
     "start_time": "2025-07-30T09:09:31.175225900Z"
    }
   },
   "outputs": [],
   "source": [
    "my_map = rdv.ray_direction + rdv.ray_position"
   ]
  },
  {
   "cell_type": "code",
   "execution_count": 11,
   "id": "897c234ec340c1c9",
   "metadata": {
    "collapsed": false,
    "ExecuteTime": {
     "end_time": "2025-07-30T09:09:31.433784400Z",
     "start_time": "2025-07-30T09:09:31.180110600Z"
    }
   },
   "outputs": [
    {
     "name": "stdout",
     "output_type": "stream",
     "text": [
      "tensor([[ 0.0729, -1.0733,  0.2339, -0.1594, -0.1786,  0.5086],\n",
      "        [ 0.1383, -0.0694, -0.1429,  0.9510,  0.0054,  0.1359],\n",
      "        [-0.3524, -0.0915,  0.5617,  0.0774,  0.7373, -1.5320],\n",
      "        [-1.5755,  0.5641,  0.1582,  1.3421, -1.3772, -0.2621],\n",
      "        [-0.2502,  1.8547, -1.2233, -1.8539, -0.8393, -1.4448],\n",
      "        [-1.0413,  1.1743,  1.1825,  0.8703,  0.5924,  0.1326],\n",
      "        [-0.1620, -0.6319,  0.7656, -0.3028,  0.4848,  0.0693],\n",
      "        [-0.6915, -0.9721, -0.8586,  1.1571, -1.1840,  0.6471],\n",
      "        [-1.1810,  0.3683,  0.9229, -0.5546, -1.6430, -1.0633],\n",
      "        [-1.2968, -0.2598, -0.8825, -0.9643,  1.4711,  0.4838]])\n",
      "tensor([[-0.0864, -1.2519,  0.7426],\n",
      "        [ 1.0893, -0.0640, -0.0070],\n",
      "        [-0.2750,  0.6458, -0.9703],\n",
      "        [-0.2335, -0.8131, -0.1040],\n",
      "        [-2.1041,  1.0154, -2.6681],\n",
      "        [-0.1710,  1.7666,  1.3151],\n",
      "        [-0.4648, -0.1470,  0.8349],\n",
      "        [ 0.4655, -2.1561, -0.2116],\n",
      "        [-1.7356, -1.2747, -0.1405],\n",
      "        [-2.2611,  1.2113, -0.3986]], device='cuda:0')\n"
     ]
    }
   ],
   "source": [
    "rays = torch.randn(10, 6)\n",
    "print(rays)\n",
    "ray_ends = my_map(rays)\n",
    "print(ray_ends)"
   ]
  },
  {
   "cell_type": "code",
   "execution_count": 12,
   "id": "93e100656b419475",
   "metadata": {
    "collapsed": false,
    "ExecuteTime": {
     "end_time": "2025-07-30T09:09:31.437834200Z",
     "start_time": "2025-07-30T09:09:31.430784300Z"
    }
   },
   "outputs": [
    {
     "data": {
      "text/plain": "tensor([[-0.0864, -1.2519,  0.7426],\n        [ 1.0893, -0.0640, -0.0070],\n        [-0.2750,  0.6458, -0.9703],\n        [-0.2335, -0.8131, -0.1040],\n        [-2.1041,  1.0154, -2.6681],\n        [-0.1710,  1.7666,  1.3151],\n        [-0.4648, -0.1470,  0.8349],\n        [ 0.4655, -2.1561, -0.2116],\n        [-1.7356, -1.2747, -0.1405],\n        [-2.2611,  1.2113, -0.3986]])"
     },
     "execution_count": 12,
     "metadata": {},
     "output_type": "execute_result"
    }
   ],
   "source": [
    "rays[:,0:3] + rays[:,3:6]"
   ]
  },
  {
   "cell_type": "markdown",
   "source": [
    "Also, when operating a map with a scalar value it is converted to a constant map automatically. Notice the use of `|` as concat operator."
   ],
   "metadata": {
    "collapsed": false
   },
   "id": "bd8cbc800ec0dad6"
  },
  {
   "cell_type": "code",
   "execution_count": 13,
   "outputs": [
    {
     "name": "stdout",
     "output_type": "stream",
     "text": [
      "tensor([[ 0.0729, -1.0733,  0.2339,  0.1594,  0.1786, -0.5086],\n",
      "        [ 0.1383, -0.0694, -0.1429, -0.9510, -0.0054, -0.1359],\n",
      "        [-0.3524, -0.0915,  0.5617, -0.0774, -0.7373,  1.5320],\n",
      "        [-1.5755,  0.5641,  0.1582, -1.3421,  1.3772,  0.2621],\n",
      "        [-0.2502,  1.8547, -1.2233,  1.8539,  0.8393,  1.4448],\n",
      "        [-1.0413,  1.1743,  1.1825, -0.8703, -0.5924, -0.1326],\n",
      "        [-0.1620, -0.6319,  0.7656,  0.3028, -0.4848, -0.0693],\n",
      "        [-0.6915, -0.9721, -0.8586, -1.1571,  1.1840, -0.6471],\n",
      "        [-1.1810,  0.3683,  0.9229,  0.5546,  1.6430,  1.0633],\n",
      "        [-1.2968, -0.2598, -0.8825,  0.9643, -1.4711, -0.4838]],\n",
      "       device='cuda:0', grad_fn=<AutogradMapFunctionBackward>)\n"
     ]
    }
   ],
   "source": [
    "opposed_ray = rdv.ray_position | (-1 * rdv.ray_direction)\n",
    "print(opposed_ray(rays))"
   ],
   "metadata": {
    "collapsed": false,
    "ExecuteTime": {
     "end_time": "2025-07-30T09:09:31.657499400Z",
     "start_time": "2025-07-30T09:09:31.437834200Z"
    }
   },
   "id": "83ddc7497b6a7c03"
  }
 ],
 "metadata": {
  "kernelspec": {
   "name": "python3",
   "language": "python",
   "display_name": "Python 3 (ipykernel)"
  },
  "language_info": {
   "codemirror_mode": {
    "name": "ipython",
    "version": 3
   },
   "file_extension": ".py",
   "mimetype": "text/x-python",
   "name": "python",
   "nbconvert_exporter": "python",
   "pygments_lexer": "ipython3",
   "version": "3.11.0"
  }
 },
 "nbformat": 4,
 "nbformat_minor": 5
}
