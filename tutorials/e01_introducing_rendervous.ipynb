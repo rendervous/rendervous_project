{
 "cells": [
  {
   "cell_type": "markdown",
   "source": [
    "# Introducing Rendervous  \n",
    "\n",
    "Rendervous is a project built on Vulkan and PyTorch that models processes—potentially graphics-related—as differentiable maps whenever possible. These maps define parametric, vector-valued functions as follows:  \n",
    "\n",
    "$$  \n",
    "f_\\theta: \\mathcal{R}^n \\rightarrow \\mathcal{R}^m \\quad \\text{where} \\quad y = f_\\theta(x)  \n",
    "$$  \n",
    "\n",
    "Each map includes a forward method to compute $y$ and a backward mechanism to propagate gradients, $\\partial L / \\partial y$, back to both $x$ and $\\theta$.\n",
    "\n",
    "Unlike conventional tensor-based differentiation frameworks, Rendervous focuses on operator-level abstraction rather than an operation-result graph. Depending on the map's specifics, gradient computation may either be automated or involve replaying the forward evaluation. This design requires careful consideration when combining maps to balance execution complexity effectively.\n",
    "\n",
    "Let's start importing necessary libraries."
   ],
   "metadata": {
    "collapsed": false
   },
   "id": "12f7e44e6b237b62"
  },
  {
   "cell_type": "code",
   "execution_count": 1,
   "outputs": [
    {
     "name": "stdout",
     "output_type": "stream",
     "text": [
      "Executing locally\n"
     ]
    }
   ],
   "source": [
    "try: # install all dependencies in colab \n",
    "    import google.colab\n",
    "    !sudo apt-get update -y\n",
    "    !sudo apt-get install -y libnvidia-gl-555 vulkan-tools glslang-tools vulkan-validationlayers-dev\n",
    "    !pip install pyav==13.1.0\n",
    "    !pip install git+https://github.com/rendervous/rendervous_project.git\n",
    "except:\n",
    "    print(\"Executing locally\")"
   ],
   "metadata": {
    "collapsed": false,
    "ExecuteTime": {
     "end_time": "2025-01-27T15:09:14.316615200Z",
     "start_time": "2025-01-27T15:09:14.275615Z"
    }
   },
   "id": "f227876468ba04d7"
  },
  {
   "cell_type": "code",
   "execution_count": 1,
   "id": "initial_id",
   "metadata": {
    "ExecuteTime": {
     "end_time": "2025-01-14T22:06:49.291609800Z",
     "start_time": "2025-01-14T22:06:45.147684900Z"
    }
   },
   "outputs": [],
   "source": [
    "import rendervous as rdv\n",
    "import torch"
   ]
  },
  {
   "cell_type": "markdown",
   "source": [
    "We will start with the simplest map in Rendervous: a constant map. This map represents functions in the form:  \n",
    "\n",
    "$$  \n",
    "f_\\theta(x) := \\theta  \n",
    "$$  \n",
    "\n",
    "For example: "
   ],
   "metadata": {
    "collapsed": false
   },
   "id": "53f7d2e7968d223f"
  },
  {
   "cell_type": "code",
   "execution_count": 2,
   "outputs": [],
   "source": [
    "my_consmap = rdv.const[1.0, 2.0]"
   ],
   "metadata": {
    "collapsed": false,
    "ExecuteTime": {
     "end_time": "2025-01-14T22:06:55.389110500Z",
     "start_time": "2025-01-14T22:06:55.378547500Z"
    }
   },
   "id": "37d2351a55fbe1fa"
  },
  {
   "cell_type": "markdown",
   "source": [
    "Some maps can be defined in a generic form. For instance, the map `my_consmap` has a fixed output dimension of 2, but its input dimension can vary. The method `cast` allows you to set specific input and output dimensions, returning a new map that is linked to the same parameters or sub-maps."
   ],
   "metadata": {
    "collapsed": false
   },
   "id": "5d4acce3a8a8e672"
  },
  {
   "cell_type": "code",
   "execution_count": 3,
   "outputs": [
    {
     "ename": "AssertionError",
     "evalue": "Map input dimension and tensor last dim missmatch",
     "output_type": "error",
     "traceback": [
      "\u001B[1;31m---------------------------------------------------------------------------\u001B[0m",
      "\u001B[1;31mAssertionError\u001B[0m                            Traceback (most recent call last)",
      "Cell \u001B[1;32mIn[3], line 2\u001B[0m\n\u001B[0;32m      1\u001B[0m my_non_generic_consmap \u001B[38;5;241m=\u001B[39m my_consmap\u001B[38;5;241m.\u001B[39mcast(input_dim\u001B[38;5;241m=\u001B[39m\u001B[38;5;241m4\u001B[39m)\n\u001B[1;32m----> 2\u001B[0m \u001B[38;5;28mprint\u001B[39m(\u001B[43mmy_non_generic_consmap\u001B[49m\u001B[43m(\u001B[49m\u001B[43mtorch\u001B[49m\u001B[38;5;241;43m.\u001B[39;49m\u001B[43mrand\u001B[49m\u001B[43m(\u001B[49m\u001B[38;5;241;43m10\u001B[39;49m\u001B[43m,\u001B[49m\u001B[43m \u001B[49m\u001B[38;5;241;43m2\u001B[39;49m\u001B[43m,\u001B[49m\u001B[43m \u001B[49m\u001B[43mdevice\u001B[49m\u001B[38;5;241;43m=\u001B[39;49m\u001B[43mrdv\u001B[49m\u001B[38;5;241;43m.\u001B[39;49m\u001B[43mdevice\u001B[49m\u001B[43m(\u001B[49m\u001B[43m)\u001B[49m\u001B[43m)\u001B[49m\u001B[43m)\u001B[49m)\n",
      "File \u001B[1;32mD:\\rendervous.project\\rdv_env\\Lib\\site-packages\\torch\\nn\\modules\\module.py:1518\u001B[0m, in \u001B[0;36mModule._wrapped_call_impl\u001B[1;34m(self, *args, **kwargs)\u001B[0m\n\u001B[0;32m   1516\u001B[0m     \u001B[38;5;28;01mreturn\u001B[39;00m \u001B[38;5;28mself\u001B[39m\u001B[38;5;241m.\u001B[39m_compiled_call_impl(\u001B[38;5;241m*\u001B[39margs, \u001B[38;5;241m*\u001B[39m\u001B[38;5;241m*\u001B[39mkwargs)  \u001B[38;5;66;03m# type: ignore[misc]\u001B[39;00m\n\u001B[0;32m   1517\u001B[0m \u001B[38;5;28;01melse\u001B[39;00m:\n\u001B[1;32m-> 1518\u001B[0m     \u001B[38;5;28;01mreturn\u001B[39;00m \u001B[38;5;28;43mself\u001B[39;49m\u001B[38;5;241;43m.\u001B[39;49m\u001B[43m_call_impl\u001B[49m\u001B[43m(\u001B[49m\u001B[38;5;241;43m*\u001B[39;49m\u001B[43margs\u001B[49m\u001B[43m,\u001B[49m\u001B[43m \u001B[49m\u001B[38;5;241;43m*\u001B[39;49m\u001B[38;5;241;43m*\u001B[39;49m\u001B[43mkwargs\u001B[49m\u001B[43m)\u001B[49m\n",
      "File \u001B[1;32mD:\\rendervous.project\\rdv_env\\Lib\\site-packages\\torch\\nn\\modules\\module.py:1527\u001B[0m, in \u001B[0;36mModule._call_impl\u001B[1;34m(self, *args, **kwargs)\u001B[0m\n\u001B[0;32m   1522\u001B[0m \u001B[38;5;66;03m# If we don't have any hooks, we want to skip the rest of the logic in\u001B[39;00m\n\u001B[0;32m   1523\u001B[0m \u001B[38;5;66;03m# this function, and just call forward.\u001B[39;00m\n\u001B[0;32m   1524\u001B[0m \u001B[38;5;28;01mif\u001B[39;00m \u001B[38;5;129;01mnot\u001B[39;00m (\u001B[38;5;28mself\u001B[39m\u001B[38;5;241m.\u001B[39m_backward_hooks \u001B[38;5;129;01mor\u001B[39;00m \u001B[38;5;28mself\u001B[39m\u001B[38;5;241m.\u001B[39m_backward_pre_hooks \u001B[38;5;129;01mor\u001B[39;00m \u001B[38;5;28mself\u001B[39m\u001B[38;5;241m.\u001B[39m_forward_hooks \u001B[38;5;129;01mor\u001B[39;00m \u001B[38;5;28mself\u001B[39m\u001B[38;5;241m.\u001B[39m_forward_pre_hooks\n\u001B[0;32m   1525\u001B[0m         \u001B[38;5;129;01mor\u001B[39;00m _global_backward_pre_hooks \u001B[38;5;129;01mor\u001B[39;00m _global_backward_hooks\n\u001B[0;32m   1526\u001B[0m         \u001B[38;5;129;01mor\u001B[39;00m _global_forward_hooks \u001B[38;5;129;01mor\u001B[39;00m _global_forward_pre_hooks):\n\u001B[1;32m-> 1527\u001B[0m     \u001B[38;5;28;01mreturn\u001B[39;00m \u001B[43mforward_call\u001B[49m\u001B[43m(\u001B[49m\u001B[38;5;241;43m*\u001B[39;49m\u001B[43margs\u001B[49m\u001B[43m,\u001B[49m\u001B[43m \u001B[49m\u001B[38;5;241;43m*\u001B[39;49m\u001B[38;5;241;43m*\u001B[39;49m\u001B[43mkwargs\u001B[49m\u001B[43m)\u001B[49m\n\u001B[0;32m   1529\u001B[0m \u001B[38;5;28;01mtry\u001B[39;00m:\n\u001B[0;32m   1530\u001B[0m     result \u001B[38;5;241m=\u001B[39m \u001B[38;5;28;01mNone\u001B[39;00m\n",
      "File \u001B[1;32mD:\\rendervous.project\\rendervous_project\\src\\rendervous\\_maps.py:1336\u001B[0m, in \u001B[0;36mMapBase.forward\u001B[1;34m(self, *args)\u001B[0m\n\u001B[0;32m   1334\u001B[0m input_tensor, \u001B[38;5;241m=\u001B[39m args\n\u001B[0;32m   1335\u001B[0m \u001B[38;5;28;01massert\u001B[39;00m \u001B[38;5;129;01mnot\u001B[39;00m \u001B[38;5;28mself\u001B[39m\u001B[38;5;241m.\u001B[39mis_generic_output, \u001B[38;5;124m\"\u001B[39m\u001B[38;5;124mCan not eval a map with generic output. Use cast specifying desired output dimension\u001B[39m\u001B[38;5;124m\"\u001B[39m\n\u001B[1;32m-> 1336\u001B[0m \u001B[38;5;28;01massert\u001B[39;00m \u001B[38;5;28mself\u001B[39m\u001B[38;5;241m.\u001B[39mis_generic_input \u001B[38;5;129;01mor\u001B[39;00m \u001B[38;5;28mself\u001B[39m\u001B[38;5;241m.\u001B[39minput_dim \u001B[38;5;241m==\u001B[39m input_tensor\u001B[38;5;241m.\u001B[39mshape[\u001B[38;5;241m-\u001B[39m\u001B[38;5;241m1\u001B[39m], \u001B[38;5;124m\"\u001B[39m\u001B[38;5;124mMap input dimension and tensor last dim missmatch\u001B[39m\u001B[38;5;124m\"\u001B[39m\n\u001B[0;32m   1337\u001B[0m \u001B[38;5;28;01mif\u001B[39;00m \u001B[38;5;28mself\u001B[39m\u001B[38;5;241m.\u001B[39mis_generic_input:\n\u001B[0;32m   1338\u001B[0m     map_object \u001B[38;5;241m=\u001B[39m \u001B[38;5;28mself\u001B[39m\u001B[38;5;241m.\u001B[39mcast(input_dim\u001B[38;5;241m=\u001B[39minput_tensor\u001B[38;5;241m.\u001B[39mshape[\u001B[38;5;241m-\u001B[39m\u001B[38;5;241m1\u001B[39m])\n",
      "\u001B[1;31mAssertionError\u001B[0m: Map input dimension and tensor last dim missmatch"
     ]
    }
   ],
   "source": [
    "my_non_generic_consmap = my_consmap.cast(input_dim=4)\n",
    "print(my_non_generic_consmap(torch.rand(10, 2, device=rdv.device())))"
   ],
   "metadata": {
    "collapsed": false,
    "ExecuteTime": {
     "end_time": "2025-01-14T22:06:59.423737100Z",
     "start_time": "2025-01-14T22:06:58.209428400Z"
    }
   },
   "id": "9d2a261b18d42800"
  },
  {
   "cell_type": "code",
   "execution_count": 4,
   "outputs": [
    {
     "name": "stdout",
     "output_type": "stream",
     "text": [
      "tensor([[1., 2.],\n",
      "        [1., 2.],\n",
      "        [1., 2.],\n",
      "        [1., 2.],\n",
      "        [1., 2.],\n",
      "        [1., 2.],\n",
      "        [1., 2.],\n",
      "        [1., 2.],\n",
      "        [1., 2.],\n",
      "        [1., 2.]], device='cuda:0', grad_fn=<AutogradMapFunctionBackward>)\n"
     ]
    }
   ],
   "source": [
    "print(my_non_generic_consmap(torch.rand(10, 4, device=rdv.device())))"
   ],
   "metadata": {
    "collapsed": false,
    "ExecuteTime": {
     "end_time": "2025-01-14T22:07:05.736127200Z",
     "start_time": "2025-01-14T22:07:04.184741200Z"
    }
   },
   "id": "55cd714e68a32b8c"
  },
  {
   "cell_type": "markdown",
   "source": [
    "If the map is generic at the input it can be evaluated and will take the input dimension from the last dimension of the argument."
   ],
   "metadata": {
    "collapsed": false
   },
   "id": "1e76ed69a224867e"
  },
  {
   "cell_type": "code",
   "execution_count": 5,
   "outputs": [
    {
     "name": "stdout",
     "output_type": "stream",
     "text": [
      "tensor([[1., 2.],\n",
      "        [1., 2.],\n",
      "        [1., 2.],\n",
      "        [1., 2.],\n",
      "        [1., 2.],\n",
      "        [1., 2.],\n",
      "        [1., 2.],\n",
      "        [1., 2.],\n",
      "        [1., 2.],\n",
      "        [1., 2.]], device='cuda:0', grad_fn=<AutogradMapFunctionBackward>)\n"
     ]
    }
   ],
   "source": [
    "print(my_consmap(torch.rand(10, 2, device=rdv.device())))  # no problem here."
   ],
   "metadata": {
    "collapsed": false,
    "ExecuteTime": {
     "end_time": "2025-01-14T22:07:09.158327200Z",
     "start_time": "2025-01-14T22:07:08.966621700Z"
    }
   },
   "id": "20e8c2c44bcc0a7e"
  },
  {
   "cell_type": "markdown",
   "source": [
    "Some special constants (non-trainable) can be instantiated directly. "
   ],
   "metadata": {
    "collapsed": false
   },
   "id": "1b86a44127524f76"
  },
  {
   "cell_type": "code",
   "execution_count": 7,
   "outputs": [],
   "source": [
    "zero = rdv.ZERO\n",
    "one = rdv.ONE"
   ],
   "metadata": {
    "collapsed": false,
    "ExecuteTime": {
     "end_time": "2025-01-14T22:07:23.539747100Z",
     "start_time": "2025-01-14T22:07:23.530112600Z"
    }
   },
   "id": "1fbdde371d596861"
  },
  {
   "cell_type": "markdown",
   "source": [
    "Another interested behaviour in rendervous is the promotion of scalar-valued functions (i.e., functions with output dimension 1).\n",
    "Those functions behave as if they were generic in the output since they can be cast to any output dimension."
   ],
   "metadata": {
    "collapsed": false
   },
   "id": "a04a36f9838ba3f3"
  },
  {
   "cell_type": "code",
   "execution_count": 8,
   "outputs": [
    {
     "name": "stdout",
     "output_type": "stream",
     "text": [
      "tensor([[0., 0., 0.],\n",
      "        [0., 0., 0.],\n",
      "        [0., 0., 0.],\n",
      "        [0., 0., 0.],\n",
      "        [0., 0., 0.]], device='cuda:0', grad_fn=<AutogradMapFunctionBackward>)\n"
     ]
    }
   ],
   "source": [
    "print(zero.cast(output_dim=3)(torch.rand(5, 4)))"
   ],
   "metadata": {
    "collapsed": false,
    "ExecuteTime": {
     "end_time": "2025-01-14T22:07:25.807335Z",
     "start_time": "2025-01-14T22:07:25.499070100Z"
    }
   },
   "id": "45564a52f5fc7c52"
  },
  {
   "cell_type": "markdown",
   "source": [
    "In case a map with generic output is evaluated, a single value output is assumed. "
   ],
   "metadata": {
    "collapsed": false
   },
   "id": "92167316961ba22c"
  },
  {
   "cell_type": "code",
   "execution_count": 9,
   "outputs": [
    {
     "name": "stdout",
     "output_type": "stream",
     "text": [
      "tensor([[1.],\n",
      "        [1.],\n",
      "        [1.],\n",
      "        [1.],\n",
      "        [1.]], device='cuda:0', grad_fn=<AutogradMapFunctionBackward>)\n"
     ]
    }
   ],
   "source": [
    "print(one(torch.rand(5,4)))"
   ],
   "metadata": {
    "collapsed": false,
    "ExecuteTime": {
     "end_time": "2025-01-14T22:07:32.059370800Z",
     "start_time": "2025-01-14T22:07:31.760925500Z"
    }
   },
   "id": "a5891c386cfcf4f4"
  },
  {
   "cell_type": "markdown",
   "source": [
    "## Operations  \n",
    "\n",
    "Unlike tensor-based operations and automatic differentiation, in Rendervous, operators applied to maps create new maps. For example, the following creates a map representing the addition of two maps. Specifically, it defines a map that extracts the direction $\\omega$ and the position $x$ from a ray input in the form $x|\\omega$. The resulting map computes the ray's end-point at a distance of $1$ (assuming the direction is normalized).  \n"
   ],
   "metadata": {
    "collapsed": false
   },
   "id": "8422a455981be7ff"
  },
  {
   "cell_type": "code",
   "execution_count": 10,
   "id": "9cebb12f0a941695",
   "metadata": {
    "collapsed": false,
    "ExecuteTime": {
     "end_time": "2025-01-14T22:07:35.739421600Z",
     "start_time": "2025-01-14T22:07:35.728599100Z"
    }
   },
   "outputs": [],
   "source": [
    "my_map = rdv.ray_direction + rdv.ray_position"
   ]
  },
  {
   "cell_type": "code",
   "execution_count": 11,
   "id": "897c234ec340c1c9",
   "metadata": {
    "collapsed": false,
    "ExecuteTime": {
     "end_time": "2025-01-14T22:07:37.932677Z",
     "start_time": "2025-01-14T22:07:37.625562700Z"
    }
   },
   "outputs": [
    {
     "name": "stdout",
     "output_type": "stream",
     "text": [
      "tensor([[-0.4744, -0.1577, -1.0514, -0.5573, -1.2427, -0.2870],\n",
      "        [ 0.4056, -0.0103,  0.5929,  0.6980, -1.5349, -0.1465],\n",
      "        [ 0.3396,  0.1659,  0.6505,  0.1052, -0.0693, -0.6165],\n",
      "        [-0.2353, -1.8952,  0.8709,  0.0129,  0.7126,  0.7095],\n",
      "        [ 0.2671,  0.0910,  0.9266,  0.6425, -1.1164, -0.4757],\n",
      "        [-0.1114, -1.0496,  1.1904,  0.6152,  0.2952, -0.7792],\n",
      "        [-1.1919,  0.3965,  0.4316,  0.2657,  0.1771, -0.1510],\n",
      "        [-0.6620, -1.3776, -1.1333,  0.4385,  0.4997,  0.8710],\n",
      "        [ 0.1856,  0.3566,  0.1963,  1.2096,  1.4897,  0.5286],\n",
      "        [ 0.1520,  2.1677,  1.0299,  1.5249,  0.0660,  0.2026]])\n",
      "tensor([[-1.0316, -1.4004, -1.3384],\n",
      "        [ 1.1036, -1.5452,  0.4464],\n",
      "        [ 0.4448,  0.0966,  0.0340],\n",
      "        [-0.2224, -1.1827,  1.5805],\n",
      "        [ 0.9095, -1.0255,  0.4509],\n",
      "        [ 0.5038, -0.7544,  0.4112],\n",
      "        [-0.9262,  0.5736,  0.2806],\n",
      "        [-0.2234, -0.8779, -0.2623],\n",
      "        [ 1.3952,  1.8463,  0.7248],\n",
      "        [ 1.6769,  2.2337,  1.2325]], device='cuda:0')\n"
     ]
    }
   ],
   "source": [
    "rays = torch.randn(10, 6)\n",
    "print(rays)\n",
    "ray_ends = my_map(rays)\n",
    "print(ray_ends)"
   ]
  },
  {
   "cell_type": "code",
   "execution_count": 12,
   "id": "93e100656b419475",
   "metadata": {
    "collapsed": false,
    "ExecuteTime": {
     "end_time": "2025-01-14T22:07:42.717787100Z",
     "start_time": "2025-01-14T22:07:42.707330100Z"
    }
   },
   "outputs": [
    {
     "data": {
      "text/plain": "tensor([[-1.0316, -1.4004, -1.3384],\n        [ 1.1036, -1.5452,  0.4464],\n        [ 0.4448,  0.0966,  0.0340],\n        [-0.2224, -1.1827,  1.5805],\n        [ 0.9095, -1.0255,  0.4509],\n        [ 0.5038, -0.7544,  0.4112],\n        [-0.9262,  0.5736,  0.2806],\n        [-0.2234, -0.8779, -0.2623],\n        [ 1.3952,  1.8463,  0.7248],\n        [ 1.6769,  2.2337,  1.2325]])"
     },
     "execution_count": 12,
     "metadata": {},
     "output_type": "execute_result"
    }
   ],
   "source": [
    "rays[:,0:3] + rays[:,3:6]"
   ]
  },
  {
   "cell_type": "markdown",
   "source": [
    "Also, when operating a map with a scalar value it is converted to a constant map automatically. Notice the use of `|` as concat operator."
   ],
   "metadata": {
    "collapsed": false
   },
   "id": "bd8cbc800ec0dad6"
  },
  {
   "cell_type": "code",
   "execution_count": 13,
   "outputs": [
    {
     "name": "stdout",
     "output_type": "stream",
     "text": [
      "tensor([[-0.4744, -0.1577, -1.0514,  0.5573,  1.2427,  0.2870],\n",
      "        [ 0.4056, -0.0103,  0.5929, -0.6980,  1.5349,  0.1465],\n",
      "        [ 0.3396,  0.1659,  0.6505, -0.1052,  0.0693,  0.6165],\n",
      "        [-0.2353, -1.8952,  0.8709, -0.0129, -0.7126, -0.7095],\n",
      "        [ 0.2671,  0.0910,  0.9266, -0.6425,  1.1164,  0.4757],\n",
      "        [-0.1114, -1.0496,  1.1904, -0.6152, -0.2952,  0.7792],\n",
      "        [-1.1919,  0.3965,  0.4316, -0.2657, -0.1771,  0.1510],\n",
      "        [-0.6620, -1.3776, -1.1333, -0.4385, -0.4997, -0.8710],\n",
      "        [ 0.1856,  0.3566,  0.1963, -1.2096, -1.4897, -0.5286],\n",
      "        [ 0.1520,  2.1677,  1.0299, -1.5249, -0.0660, -0.2026]],\n",
      "       device='cuda:0', grad_fn=<AutogradMapFunctionBackward>)\n"
     ]
    }
   ],
   "source": [
    "opposed_ray = rdv.ray_position | (-1 * rdv.ray_direction)\n",
    "print(opposed_ray(rays))"
   ],
   "metadata": {
    "collapsed": false,
    "ExecuteTime": {
     "end_time": "2025-01-14T22:07:47.882523700Z",
     "start_time": "2025-01-14T22:07:47.635888300Z"
    }
   },
   "id": "83ddc7497b6a7c03"
  }
 ],
 "metadata": {
  "kernelspec": {
   "display_name": "Python 3 (ipykernel)",
   "language": "python",
   "name": "python3"
  },
  "language_info": {
   "codemirror_mode": {
    "name": "ipython",
    "version": 3
   },
   "file_extension": ".py",
   "mimetype": "text/x-python",
   "name": "python",
   "nbconvert_exporter": "python",
   "pygments_lexer": "ipython3",
   "version": "3.11.0"
  }
 },
 "nbformat": 4,
 "nbformat_minor": 5
}
