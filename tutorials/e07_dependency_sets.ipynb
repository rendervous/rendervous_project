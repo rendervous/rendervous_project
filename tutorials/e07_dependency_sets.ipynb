{
 "cells": [
  {
   "cell_type": "markdown",
   "source": [
    "# Dependency Sets\n",
    "\n",
    "The dependency set is a pattern design similar to dependency injection that was implemented to create maps and submaps where the default concept is mostly clear.\n",
    "\n",
    "For example, let's think in how many maps are involved in the rendering of a cloud. We have the sigma (densities) the scattering albedo, the emission field, the environment map, the direction sampler for environment, the phase function, the sampler for the phase function, the transmittance, the boundary, the majorant field, and finally the radiance depending on all prior maps. Some of them "
   ],
   "metadata": {
    "collapsed": false
   },
   "id": "3d88d8f4dafc7219"
  },
  {
   "cell_type": "code",
   "execution_count": null,
   "outputs": [],
   "source": [],
   "metadata": {
    "collapsed": false
   },
   "id": "3ee732ab5df10855"
  },
  {
   "cell_type": "code",
   "execution_count": null,
   "id": "initial_id",
   "metadata": {
    "collapsed": true
   },
   "outputs": [],
   "source": []
  }
 ],
 "metadata": {
  "kernelspec": {
   "display_name": "Python 3",
   "language": "python",
   "name": "python3"
  },
  "language_info": {
   "codemirror_mode": {
    "name": "ipython",
    "version": 2
   },
   "file_extension": ".py",
   "mimetype": "text/x-python",
   "name": "python",
   "nbconvert_exporter": "python",
   "pygments_lexer": "ipython2",
   "version": "2.7.6"
  }
 },
 "nbformat": 4,
 "nbformat_minor": 5
}
