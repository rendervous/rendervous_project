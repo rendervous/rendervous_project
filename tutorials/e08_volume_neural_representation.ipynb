{
 "cells": [
  {
   "cell_type": "code",
   "execution_count": null,
   "outputs": [],
   "source": [
    "try: # install all dependencies in colab \n",
    "    import google.colab\n",
    "    !sudo apt-get update -y\n",
    "    !sudo apt-get install -y libnvidia-gl-555 vulkan-tools glslang-tools vulkan-validationlayers-dev\n",
    "    !pip install pyav==13.1.0\n",
    "    !pip install git+https://github.com/rendervous/rendervous_project.git\n",
    "except:\n",
    "    print(\"Executing locally\")"
   ],
   "metadata": {
    "collapsed": false
   },
   "id": "e64945e60aec517"
  },
  {
   "cell_type": "code",
   "execution_count": 2,
   "id": "initial_id",
   "metadata": {
    "collapsed": true,
    "ExecuteTime": {
     "end_time": "2025-02-15T20:00:40.650306400Z",
     "start_time": "2025-02-15T19:59:25.572099800Z"
    }
   },
   "outputs": [
    {
     "name": "stderr",
     "output_type": "stream",
     "text": [
      "Loss: 4733.5:  53%|█████▎    | 532/1000 [01:14<01:05,  7.19it/s]          \n"
     ]
    },
    {
     "ename": "KeyboardInterrupt",
     "evalue": "",
     "output_type": "error",
     "traceback": [
      "\u001B[0;31m---------------------------------------------------------------------------\u001B[0m",
      "\u001B[0;31mKeyboardInterrupt\u001B[0m                         Traceback (most recent call last)",
      "Cell \u001B[0;32mIn[2], line 42\u001B[0m\n\u001B[1;32m     40\u001B[0m \u001B[38;5;28;01mwith\u001B[39;00m torch\u001B[38;5;241m.\u001B[39mno_grad():\n\u001B[1;32m     41\u001B[0m     x \u001B[38;5;241m=\u001B[39m torch\u001B[38;5;241m.\u001B[39mrand(\u001B[38;5;241m32\u001B[39m\u001B[38;5;241m*\u001B[39m\u001B[38;5;241m1024\u001B[39m, \u001B[38;5;241m3\u001B[39m, device\u001B[38;5;241m=\u001B[39mrdv\u001B[38;5;241m.\u001B[39mdevice()) \u001B[38;5;241m*\u001B[39m (bmax \u001B[38;5;241m-\u001B[39m bmin) \u001B[38;5;241m+\u001B[39m bmin\n\u001B[0;32m---> 42\u001B[0m     ref_values \u001B[38;5;241m=\u001B[39m \u001B[43mgrid\u001B[49m\u001B[43m(\u001B[49m\u001B[43mx\u001B[49m\u001B[43m)\u001B[49m\n\u001B[1;32m     44\u001B[0m opt\u001B[38;5;241m.\u001B[39mzero_grad()\n\u001B[1;32m     45\u001B[0m inf_values \u001B[38;5;241m=\u001B[39m rep_map(x)\n",
      "File \u001B[0;32m~/.local/lib/python3.10/site-packages/torch/nn/modules/module.py:1501\u001B[0m, in \u001B[0;36mModule._call_impl\u001B[0;34m(self, *args, **kwargs)\u001B[0m\n\u001B[1;32m   1496\u001B[0m \u001B[38;5;66;03m# If we don't have any hooks, we want to skip the rest of the logic in\u001B[39;00m\n\u001B[1;32m   1497\u001B[0m \u001B[38;5;66;03m# this function, and just call forward.\u001B[39;00m\n\u001B[1;32m   1498\u001B[0m \u001B[38;5;28;01mif\u001B[39;00m \u001B[38;5;129;01mnot\u001B[39;00m (\u001B[38;5;28mself\u001B[39m\u001B[38;5;241m.\u001B[39m_backward_hooks \u001B[38;5;129;01mor\u001B[39;00m \u001B[38;5;28mself\u001B[39m\u001B[38;5;241m.\u001B[39m_backward_pre_hooks \u001B[38;5;129;01mor\u001B[39;00m \u001B[38;5;28mself\u001B[39m\u001B[38;5;241m.\u001B[39m_forward_hooks \u001B[38;5;129;01mor\u001B[39;00m \u001B[38;5;28mself\u001B[39m\u001B[38;5;241m.\u001B[39m_forward_pre_hooks\n\u001B[1;32m   1499\u001B[0m         \u001B[38;5;129;01mor\u001B[39;00m _global_backward_pre_hooks \u001B[38;5;129;01mor\u001B[39;00m _global_backward_hooks\n\u001B[1;32m   1500\u001B[0m         \u001B[38;5;129;01mor\u001B[39;00m _global_forward_hooks \u001B[38;5;129;01mor\u001B[39;00m _global_forward_pre_hooks):\n\u001B[0;32m-> 1501\u001B[0m     \u001B[38;5;28;01mreturn\u001B[39;00m \u001B[43mforward_call\u001B[49m\u001B[43m(\u001B[49m\u001B[38;5;241;43m*\u001B[39;49m\u001B[43margs\u001B[49m\u001B[43m,\u001B[49m\u001B[43m \u001B[49m\u001B[38;5;241;43m*\u001B[39;49m\u001B[38;5;241;43m*\u001B[39;49m\u001B[43mkwargs\u001B[49m\u001B[43m)\u001B[49m\n\u001B[1;32m   1502\u001B[0m \u001B[38;5;66;03m# Do not call functions when jit is used\u001B[39;00m\n\u001B[1;32m   1503\u001B[0m full_backward_hooks, non_full_backward_hooks \u001B[38;5;241m=\u001B[39m [], []\n",
      "File \u001B[0;32m~/rendervous.project/rendervous_project/src/rendervous/_maps.py:1346\u001B[0m, in \u001B[0;36mMapBase.forward\u001B[0;34m(self, *args)\u001B[0m\n\u001B[1;32m   1344\u001B[0m \u001B[38;5;28;01massert\u001B[39;00m \u001B[38;5;129;01mnot\u001B[39;00m map_object\u001B[38;5;241m.\u001B[39mis_generic, \u001B[38;5;124mf\u001B[39m\u001B[38;5;124m'\u001B[39m\u001B[38;5;124mEvaluated map is still generic input:\u001B[39m\u001B[38;5;132;01m{\u001B[39;00mmap_object\u001B[38;5;241m.\u001B[39mis_generic_input\u001B[38;5;132;01m}\u001B[39;00m\u001B[38;5;124m output:\u001B[39m\u001B[38;5;132;01m{\u001B[39;00mmap_object\u001B[38;5;241m.\u001B[39mis_generic_output\u001B[38;5;132;01m}\u001B[39;00m\u001B[38;5;124m children: \u001B[39m\u001B[38;5;132;01m{\u001B[39;00mmap_object\u001B[38;5;241m.\u001B[39mhas_generic_submap()\u001B[38;5;132;01m}\u001B[39;00m\u001B[38;5;124m'\u001B[39m\n\u001B[1;32m   1345\u001B[0m trigger_bw \u001B[38;5;241m=\u001B[39m map_object\u001B[38;5;241m.\u001B[39m_rdv_trigger_bw \u001B[38;5;28;01mif\u001B[39;00m \u001B[38;5;28many\u001B[39m(\u001B[38;5;28;01mTrue\u001B[39;00m \u001B[38;5;28;01mfor\u001B[39;00m _ \u001B[38;5;129;01min\u001B[39;00m map_object\u001B[38;5;241m.\u001B[39mparameters()) \u001B[38;5;28;01melse\u001B[39;00m map_object\u001B[38;5;241m.\u001B[39m_rdv_no_trigger_bw\n\u001B[0;32m-> 1346\u001B[0m \u001B[38;5;28;01mreturn\u001B[39;00m \u001B[43mAutogradMapFunction\u001B[49m\u001B[38;5;241;43m.\u001B[39;49m\u001B[43mapply\u001B[49m\u001B[43m(\u001B[49m\u001B[43minput_tensor\u001B[49m\u001B[43m,\u001B[49m\u001B[43m \u001B[49m\u001B[43mtrigger_bw\u001B[49m\u001B[43m,\u001B[49m\u001B[43m \u001B[49m\u001B[43mmap_object\u001B[49m\u001B[43m)\u001B[49m\n",
      "File \u001B[0;32m~/.local/lib/python3.10/site-packages/torch/autograd/function.py:506\u001B[0m, in \u001B[0;36mFunction.apply\u001B[0;34m(cls, *args, **kwargs)\u001B[0m\n\u001B[1;32m    503\u001B[0m \u001B[38;5;28;01mif\u001B[39;00m \u001B[38;5;129;01mnot\u001B[39;00m torch\u001B[38;5;241m.\u001B[39m_C\u001B[38;5;241m.\u001B[39m_are_functorch_transforms_active():\n\u001B[1;32m    504\u001B[0m     \u001B[38;5;66;03m# See NOTE: [functorch vjp and autograd interaction]\u001B[39;00m\n\u001B[1;32m    505\u001B[0m     args \u001B[38;5;241m=\u001B[39m _functorch\u001B[38;5;241m.\u001B[39mutils\u001B[38;5;241m.\u001B[39munwrap_dead_wrappers(args)\n\u001B[0;32m--> 506\u001B[0m     \u001B[38;5;28;01mreturn\u001B[39;00m \u001B[38;5;28;43msuper\u001B[39;49m\u001B[43m(\u001B[49m\u001B[43m)\u001B[49m\u001B[38;5;241;43m.\u001B[39;49m\u001B[43mapply\u001B[49m\u001B[43m(\u001B[49m\u001B[38;5;241;43m*\u001B[39;49m\u001B[43margs\u001B[49m\u001B[43m,\u001B[49m\u001B[43m \u001B[49m\u001B[38;5;241;43m*\u001B[39;49m\u001B[38;5;241;43m*\u001B[39;49m\u001B[43mkwargs\u001B[49m\u001B[43m)\u001B[49m  \u001B[38;5;66;03m# type: ignore[misc]\u001B[39;00m\n\u001B[1;32m    508\u001B[0m \u001B[38;5;28;01mif\u001B[39;00m \u001B[38;5;28mcls\u001B[39m\u001B[38;5;241m.\u001B[39msetup_context \u001B[38;5;241m==\u001B[39m _SingleLevelFunction\u001B[38;5;241m.\u001B[39msetup_context:\n\u001B[1;32m    509\u001B[0m     \u001B[38;5;28;01mraise\u001B[39;00m \u001B[38;5;167;01mRuntimeError\u001B[39;00m(\n\u001B[1;32m    510\u001B[0m         \u001B[38;5;124m'\u001B[39m\u001B[38;5;124mIn order to use an autograd.Function with functorch transforms \u001B[39m\u001B[38;5;124m'\u001B[39m\n\u001B[1;32m    511\u001B[0m         \u001B[38;5;124m'\u001B[39m\u001B[38;5;124m(vmap, grad, jvp, jacrev, ...), it must override the setup_context \u001B[39m\u001B[38;5;124m'\u001B[39m\n\u001B[1;32m    512\u001B[0m         \u001B[38;5;124m'\u001B[39m\u001B[38;5;124mstaticmethod. For more details, please see \u001B[39m\u001B[38;5;124m'\u001B[39m\n\u001B[1;32m    513\u001B[0m         \u001B[38;5;124m'\u001B[39m\u001B[38;5;124mhttps://pytorch.org/docs/master/notes/extending.func.html\u001B[39m\u001B[38;5;124m'\u001B[39m)\n",
      "File \u001B[0;32m~/rendervous.project/rendervous_project/src/rendervous/_maps.py:1608\u001B[0m, in \u001B[0;36mAutogradMapFunction.forward\u001B[0;34m(ctx, *args)\u001B[0m\n\u001B[1;32m   1606\u001B[0m ctx\u001B[38;5;241m.\u001B[39msave_for_backward(input_tensor)  \u001B[38;5;66;03m# properly save tensors for backward\u001B[39;00m\n\u001B[1;32m   1607\u001B[0m ctx\u001B[38;5;241m.\u001B[39mmap_object \u001B[38;5;241m=\u001B[39m map_object\n\u001B[0;32m-> 1608\u001B[0m \u001B[38;5;28;01mreturn\u001B[39;00m \u001B[43mDispatcherEngine\u001B[49m\u001B[38;5;241;43m.\u001B[39;49m\u001B[43meval_map_forward\u001B[49m\u001B[43m(\u001B[49m\u001B[43mmap_object\u001B[49m\u001B[43m,\u001B[49m\u001B[43m \u001B[49m\u001B[43minput_tensor\u001B[49m\u001B[43m)\u001B[49m\n",
      "File \u001B[0;32m~/rendervous.project/rendervous_project/src/rendervous/_maps.py:913\u001B[0m, in \u001B[0;36mDispatcherEngine.eval_map_forward\u001B[0;34m(cls, map_object, input)\u001B[0m\n\u001B[1;32m    911\u001B[0m \u001B[38;5;28;01mwith\u001B[39;00m \u001B[38;5;28mcls\u001B[39m\u001B[38;5;241m.\u001B[39m__ENGINE_OBJECTS__[\u001B[38;5;124m'\u001B[39m\u001B[38;5;124mmap_fw_eval\u001B[39m\u001B[38;5;124m'\u001B[39m] \u001B[38;5;28;01mas\u001B[39;00m b:\n\u001B[1;32m    912\u001B[0m     b\u001B[38;5;241m.\u001B[39mmain_map \u001B[38;5;241m=\u001B[39m _vk\u001B[38;5;241m.\u001B[39mwrap_gpu(map_object)\n\u001B[0;32m--> 913\u001B[0m     b\u001B[38;5;241m.\u001B[39minput \u001B[38;5;241m=\u001B[39m \u001B[43m_vk\u001B[49m\u001B[38;5;241;43m.\u001B[39;49m\u001B[43mwrap_gpu\u001B[49m\u001B[43m(\u001B[49m\u001B[38;5;28;43minput\u001B[39;49m\u001B[43m)\u001B[49m\n\u001B[1;32m    914\u001B[0m     b\u001B[38;5;241m.\u001B[39moutput \u001B[38;5;241m=\u001B[39m output_ptr\n\u001B[1;32m    915\u001B[0m     b\u001B[38;5;241m.\u001B[39mseeds[:] \u001B[38;5;241m=\u001B[39m _internal\u001B[38;5;241m.\u001B[39mget_seeds()\n",
      "File \u001B[0;32m~/rendervous.project/vulky_project/src/vulky/_rendering_internal.py:2956\u001B[0m, in \u001B[0;36mwrap_gpu\u001B[0;34m(t, mode)\u001B[0m\n\u001B[1;32m   2940\u001B[0m \u001B[38;5;28;01mdef\u001B[39;00m \u001B[38;5;21mwrap_gpu\u001B[39m(t: _typing\u001B[38;5;241m.\u001B[39mAny, mode: _typing\u001B[38;5;241m.\u001B[39mLiteral[\u001B[38;5;124m'\u001B[39m\u001B[38;5;124min\u001B[39m\u001B[38;5;124m'\u001B[39m, \u001B[38;5;124m'\u001B[39m\u001B[38;5;124mout\u001B[39m\u001B[38;5;124m'\u001B[39m, \u001B[38;5;124m'\u001B[39m\u001B[38;5;124minout\u001B[39m\u001B[38;5;124m'\u001B[39m] \u001B[38;5;241m=\u001B[39m \u001B[38;5;124m'\u001B[39m\u001B[38;5;124min\u001B[39m\u001B[38;5;124m'\u001B[39m) \u001B[38;5;241m-\u001B[39m\u001B[38;5;241m>\u001B[39m GPUPtr:\n\u001B[1;32m   2941\u001B[0m \u001B[38;5;250m    \u001B[39m\u001B[38;5;124;03m\"\"\"\u001B[39;00m\n\u001B[1;32m   2942\u001B[0m \u001B[38;5;124;03m    Wraps an object to be accessible from/to the GPU depending on the mode.\u001B[39;00m\n\u001B[1;32m   2943\u001B[0m \u001B[38;5;124;03m    Returned object can be assigned to fields of type int64_t and use as reference buffers.\u001B[39;00m\n\u001B[0;32m   (...)\u001B[0m\n\u001B[1;32m   2954\u001B[0m \u001B[38;5;124;03m    >>>     b.ptr = vk.wrap_gpu(t, 'inout')\u001B[39;00m\n\u001B[1;32m   2955\u001B[0m \u001B[38;5;124;03m    \"\"\"\u001B[39;00m\n\u001B[0;32m-> 2956\u001B[0m     \u001B[38;5;28;01mreturn\u001B[39;00m \u001B[43m__ACTIVE_DEVICE__\u001B[49m\u001B[38;5;241;43m.\u001B[39;49m\u001B[43mwrap_gpu\u001B[49m\u001B[43m(\u001B[49m\u001B[43mt\u001B[49m\u001B[43m,\u001B[49m\u001B[43m \u001B[49m\u001B[43mmode\u001B[49m\u001B[43m)\u001B[49m\n",
      "File \u001B[0;32m~/rendervous.project/vulky_project/src/vulky/_rendering_internal.py:1941\u001B[0m, in \u001B[0;36mDeviceManager.wrap_gpu\u001B[0;34m(self, data, mode)\u001B[0m\n\u001B[1;32m   1940\u001B[0m \u001B[38;5;28;01mdef\u001B[39;00m \u001B[38;5;21mwrap_gpu\u001B[39m(\u001B[38;5;28mself\u001B[39m, data: _typing\u001B[38;5;241m.\u001B[39mAny, mode: _typing\u001B[38;5;241m.\u001B[39mLiteral[\u001B[38;5;124m'\u001B[39m\u001B[38;5;124min\u001B[39m\u001B[38;5;124m'\u001B[39m, \u001B[38;5;124m'\u001B[39m\u001B[38;5;124mout\u001B[39m\u001B[38;5;124m'\u001B[39m, \u001B[38;5;124m'\u001B[39m\u001B[38;5;124minout\u001B[39m\u001B[38;5;124m'\u001B[39m]) \u001B[38;5;241m-\u001B[39m\u001B[38;5;241m>\u001B[39m GPUPtr:\n\u001B[0;32m-> 1941\u001B[0m     \u001B[38;5;28;01mreturn\u001B[39;00m \u001B[38;5;28;43mself\u001B[39;49m\u001B[38;5;241;43m.\u001B[39;49m\u001B[43m__wrapping\u001B[49m\u001B[38;5;241;43m.\u001B[39;49m\u001B[43mwrap_gpu\u001B[49m\u001B[43m(\u001B[49m\u001B[43mdata\u001B[49m\u001B[43m,\u001B[49m\u001B[43m \u001B[49m\u001B[43mmode\u001B[49m\u001B[43m)\u001B[49m\n",
      "File \u001B[0;32m~/rendervous.project/vulky_project/src/vulky/_rendering_internal.py:1624\u001B[0m, in \u001B[0;36m_GPUWrappingManager.wrap_gpu\u001B[0;34m(self, t, mode)\u001B[0m\n\u001B[1;32m   1622\u001B[0m     \u001B[38;5;28mself\u001B[39m\u001B[38;5;241m.\u001B[39mhashed_wraps[entry] \u001B[38;5;241m=\u001B[39m weakref\u001B[38;5;241m.\u001B[39mWeakSet()\n\u001B[1;32m   1623\u001B[0m \u001B[38;5;28;01mimport\u001B[39;00m \u001B[38;5;21;01mgc\u001B[39;00m\n\u001B[0;32m-> 1624\u001B[0m \u001B[43mgc\u001B[49m\u001B[38;5;241;43m.\u001B[39;49m\u001B[43mcollect\u001B[49m\u001B[43m(\u001B[49m\u001B[43m)\u001B[49m\n\u001B[1;32m   1625\u001B[0m v \u001B[38;5;241m=\u001B[39m \u001B[38;5;28mself\u001B[39m\u001B[38;5;241m.\u001B[39mdevice()\u001B[38;5;241m.\u001B[39mcreate_tensor(\u001B[38;5;241m*\u001B[39mt\u001B[38;5;241m.\u001B[39mshape, dtype\u001B[38;5;241m=\u001B[39mt\u001B[38;5;241m.\u001B[39mdtype)\n\u001B[1;32m   1626\u001B[0m w \u001B[38;5;241m=\u001B[39m WrappedTensorPtr(obj, t, v, mode)\n",
      "\u001B[0;31mKeyboardInterrupt\u001B[0m: "
     ]
    }
   ],
   "source": [
    "import torch\n",
    "import rendervous as rdv\n",
    "import matplotlib.pyplot as plt\n",
    "import vulky.datasets as datasets\n",
    "import numpy as np\n",
    "from tqdm import tqdm\n",
    "\n",
    "\n",
    "# load the disney cloud as a tensor\n",
    "cloud = datasets.Volumes.disney_cloud\n",
    "\n",
    "camera = rdv.PerspectiveCameraSensor(512, 512, rdv.look_at_poses((-2.8, 0.2, -.4)))\n",
    "\n",
    "# create a grid map as reference\n",
    "bmin, bmax = rdv.normalized_box(cloud)\n",
    "grid = rdv.Grid3D(cloud, bmin, bmax)\n",
    "\n",
    "# create a latent grid to represent the compact feature\n",
    "latent = torch.nn.Parameter(torch.zeros(16, 16, 16, 8, device=rdv.device()))\n",
    "latent_grid = rdv.Grid3D(latent, bmin, bmax)\n",
    "# create a MLP to represent the scene\n",
    "def dense(input_dim, output_dim):\n",
    "    k = 1 / input_dim\n",
    "    A_0 = torch.nn.Parameter((torch.rand(output_dim, input_dim, device=rdv.device())*2 - 1)*np.sqrt(k))\n",
    "    B_0 = torch.nn.Parameter((2 * torch.rand(output_dim, device=rdv.device())-1)*np.sqrt(k))\n",
    "    return A_0 @ rdv.X + rdv.const[B_0]\n",
    "\n",
    "maps = [dense(8, 32), rdv.relu, dense(32, 32), rdv.relu, dense(32, 32), rdv.relu, dense(32, 1)]\n",
    "mlp = None\n",
    "for m in maps: mlp = m if mlp is None else mlp.then(m)\n",
    "\n",
    "rep_map = latent_grid.then(mlp)\n",
    "\n",
    "# train the representation\n",
    "bmin, bmax = bmin.to(rdv.device()), bmax.to(rdv.device())\n",
    "opt = torch.optim.NAdam(list(mlp.parameters())+[latent], lr=0.002)\n",
    "sch = torch.optim.lr_scheduler.OneCycleLR(opt, 0.002, 1000)\n",
    "steps_iterator = tqdm(range(1000))\n",
    "for s in steps_iterator:\n",
    "    with torch.no_grad():\n",
    "        x = torch.rand(32*1024, 3, device=rdv.device()) * (bmax - bmin) + bmin\n",
    "        ref_values = grid(x)\n",
    "\n",
    "    opt.zero_grad()\n",
    "    inf_values = rep_map(x)\n",
    "    loss = torch.nn.functional.mse_loss(ref_values, inf_values, reduction='sum')\n",
    "    loss.backward()\n",
    "    opt.step()\n",
    "    # sch.step()\n",
    "    steps_iterator.set_description_str(f\"Loss: {loss.item()}\")"
   ]
  }
 ],
 "metadata": {
  "kernelspec": {
   "display_name": "Python 3",
   "language": "python",
   "name": "python3"
  },
  "language_info": {
   "codemirror_mode": {
    "name": "ipython",
    "version": 2
   },
   "file_extension": ".py",
   "mimetype": "text/x-python",
   "name": "python",
   "nbconvert_exporter": "python",
   "pygments_lexer": "ipython2",
   "version": "2.7.6"
  }
 },
 "nbformat": 4,
 "nbformat_minor": 5
}
